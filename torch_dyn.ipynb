{
 "cells": [
  {
   "cell_type": "code",
   "execution_count": null,
   "id": "3c4d510d",
   "metadata": {},
   "outputs": [],
   "source": []
  },
  {
   "cell_type": "code",
   "execution_count": 1,
   "id": "f0e512cf",
   "metadata": {},
   "outputs": [],
   "source": [
    "import os\n",
    "import argparse\n",
    "import time\n",
    "import numpy as np\n",
    "\n",
    "import torch\n",
    "import torch.nn as nn\n",
    "import torch.optim as optim\n",
    "import pandas as pd\n",
    "from torch.utils.data import Dataset,DataLoader\n",
    "from torchdyn.core import NeuralODE\n",
    "from torchdyn.nn import DataControl, DepthCat, Augmenter, GalLinear, Fourier\n",
    "import matplotlib.pyplot as plt\n",
    "import torch.utils.data as data"
   ]
  },
  {
   "cell_type": "code",
   "execution_count": 2,
   "id": "acdd61ff",
   "metadata": {},
   "outputs": [],
   "source": [
    "from torchdyn.utils import *"
   ]
  },
  {
   "cell_type": "code",
   "execution_count": 3,
   "id": "ac47d68c",
   "metadata": {},
   "outputs": [],
   "source": [
    "device=torch.device('cpu')"
   ]
  },
  {
   "cell_type": "code",
   "execution_count": 4,
   "id": "d2ad47f8",
   "metadata": {},
   "outputs": [],
   "source": [
    "class TraceDataset(Dataset):\n",
    "    \"\"\" Dataset for loading traces\"\"\"\n",
    "    def __init__(self,csv_file):\n",
    "        self.tracedf=pd.read_csv(csv_file)\n",
    "        #self.tracedf=self.tracedf.tail(200)\n",
    "        self.tracedf=self.tracedf.apply(lambda x: x*500000)\n",
    "        #self.tracedf['Subsystem #1|CTLs|Vars|Igrid_d'] = self.tracedf['Subsystem #1|CTLs|Vars|Igrid_d'].apply(lambda x: x*1000)\n",
    "        tempx=self.tracedf[[\"Id2\",\"Iq2\",\"Vd2\",\"Vq2\",\"VBat2ds\",\"VBat2qs\",\"V_mg_d\",\"V_mg_q\",\"I_mg_d\",\"I_mg_q\"]]\n",
    "        #tempx=self.tracedf[[\"I_mg_d\",\"I_mg_q\"]]\n",
    "        self.x=torch.tensor(tempx.values).float().to(device)\n",
    "        #self.x=nn.functional.normalize(self.x)\n",
    "        self.y=torch.tensor(self.tracedf[[\"I_mg_d\",\"I_mg_q\"]].values).float().to(device)\n",
    "        #self.y=nn.functional.normalize(self.y)\n",
    "        self.t=torch.tensor(np.linspace(0,30,len(self.tracedf))).float().squeeze().to(device)\n",
    "        \n",
    "    def __len__(self):\n",
    "        return len(self.tracedf)\n",
    "    \n",
    "    def __getitem__(self,idx):\n",
    "        \n",
    "        #tempx=torch.from_numpy(self.x.iloc[[idx]].to_numpy()).float()\n",
    "        #tempx=tempx.squeeze()\n",
    "        #tempy=torch.from_numpy(self.y.iloc[[idx]].to_numpy()).float()\n",
    "        #tempy=tempy.squeeze()\n",
    "        #tempt=torch.from_numpy(self.t.iloc[[idx]].to_numpy()).float()\n",
    "        sample={'x':self.x[idx,:],'y':self.y[idx,:],'t':self.t[idx]}\n",
    "        return sample"
   ]
  },
  {
   "cell_type": "code",
   "execution_count": 5,
   "id": "5b73248a",
   "metadata": {},
   "outputs": [],
   "source": [
    "td=TraceDataset('Trace_single_30min.csv')"
   ]
  },
  {
   "cell_type": "code",
   "execution_count": 6,
   "id": "b722a902",
   "metadata": {},
   "outputs": [],
   "source": [
    "X_train = td.x\n",
    "y_train = td.y\n",
    "train = data.TensorDataset(X_train, y_train)\n",
    "trainloader = data.DataLoader(train, batch_size=500, shuffle=True)"
   ]
  },
  {
   "cell_type": "code",
   "execution_count": 7,
   "id": "bf293400",
   "metadata": {},
   "outputs": [],
   "source": [
    "import pytorch_lightning as pl"
   ]
  },
  {
   "cell_type": "code",
   "execution_count": 8,
   "id": "5abe06cf",
   "metadata": {},
   "outputs": [],
   "source": [
    "class Learner(pl.LightningModule):\n",
    "    def __init__(self, t_span:torch.Tensor, model:nn.Module):\n",
    "        super().__init__()\n",
    "        self.model, self.t_span = model, t_span\n",
    "    \n",
    "    def forward(self, x):\n",
    "        return self.model(x)\n",
    "    \n",
    "    def training_step(self, batch, batch_idx):\n",
    "        x, y = batch      \n",
    "        t_eval, y_hat = self.model(x, self.t_span)\n",
    "        y_hat = y_hat[-1] # select last point of solution trajectory\n",
    "        loss = nn.CrossEntropyLoss()(y_hat, y)\n",
    "        return {'loss': loss}   \n",
    "    \n",
    "    def configure_optimizers(self):\n",
    "        return torch.optim.Adam(self.model.parameters(), lr=0.01)\n",
    "\n",
    "    def train_dataloader(self):\n",
    "        return trainloader"
   ]
  },
  {
   "cell_type": "code",
   "execution_count": 9,
   "id": "5d2427eb",
   "metadata": {},
   "outputs": [
    {
     "name": "stdout",
     "output_type": "stream",
     "text": [
      "Your vector field callable (nn.Module) should have both time `t` and state `x` as arguments, we've wrapped it for you.\n"
     ]
    }
   ],
   "source": [
    "f = nn.Sequential(DataControl(),\n",
    "                  nn.Linear(8+2, 64),\n",
    "                  nn.Tanh(),\n",
    "                  nn.Linear(64, 2))\n",
    "\n",
    "t_span = td.t\n",
    "\n",
    "# Neural ODE\n",
    "model = NeuralODE(f, sensitivity='adjoint', solver='tsit5', atol=1e-3, rtol=1e-3).to(device)"
   ]
  },
  {
   "cell_type": "code",
   "execution_count": null,
   "id": "f6be8bcd",
   "metadata": {},
   "outputs": [
    {
     "name": "stderr",
     "output_type": "stream",
     "text": [
      "GPU available: True, used: False\n",
      "TPU available: False, using: 0 TPU cores\n",
      "IPU available: False, using: 0 IPUs\n",
      "HPU available: False, using: 0 HPUs\n",
      "C:\\Users\\amol\\.conda\\envs\\ode\\lib\\site-packages\\pytorch_lightning\\trainer\\trainer.py:1814: PossibleUserWarning: GPU available but not used. Set `accelerator` and `devices` using `Trainer(accelerator='gpu', devices=1)`.\n",
      "  rank_zero_warn(\n",
      "Missing logger folder: C:\\Users\\amol\\Documents\\powersys\\neuralOde\\lightning_logs\n",
      "\n",
      "  | Name  | Type      | Params\n",
      "------------------------------------\n",
      "0 | model | NeuralODE | 322   \n",
      "------------------------------------\n",
      "322       Trainable params\n",
      "0         Non-trainable params\n",
      "322       Total params\n",
      "0.001     Total estimated model params size (MB)\n",
      "C:\\Users\\amol\\.conda\\envs\\ode\\lib\\site-packages\\pytorch_lightning\\trainer\\connectors\\data_connector.py:240: PossibleUserWarning: The dataloader, train_dataloader, does not have many workers which may be a bottleneck. Consider increasing the value of the `num_workers` argument` (try 4 which is the number of cpus on this machine) in the `DataLoader` init to improve performance.\n",
      "  rank_zero_warn(\n"
     ]
    },
    {
     "data": {
      "application/vnd.jupyter.widget-view+json": {
       "model_id": "442b838d360e4c3b8f7dfbe067288564",
       "version_major": 2,
       "version_minor": 0
      },
      "text/plain": [
       "Training: 0it [00:00, ?it/s]"
      ]
     },
     "metadata": {},
     "output_type": "display_data"
    }
   ],
   "source": [
    "learn = Learner(t_span, model)\n",
    "\n",
    "trainer = pl.Trainer(min_epochs=1, max_epochs=1)\n",
    "trainer.fit(learn)"
   ]
  },
  {
   "cell_type": "code",
   "execution_count": null,
   "id": "29a7e32c",
   "metadata": {},
   "outputs": [],
   "source": [
    "temp=next(iter(trainloader))"
   ]
  },
  {
   "cell_type": "code",
   "execution_count": null,
   "id": "f9e5124e",
   "metadata": {},
   "outputs": [],
   "source": [
    "len(temp)"
   ]
  },
  {
   "cell_type": "code",
   "execution_count": null,
   "id": "f4a20274",
   "metadata": {},
   "outputs": [],
   "source": [
    "temp[0].shape"
   ]
  },
  {
   "cell_type": "code",
   "execution_count": null,
   "id": "9a5049a2",
   "metadata": {},
   "outputs": [],
   "source": [
    "temp[1].shape"
   ]
  },
  {
   "cell_type": "code",
   "execution_count": null,
   "id": "60ad3387",
   "metadata": {},
   "outputs": [],
   "source": []
  }
 ],
 "metadata": {
  "kernelspec": {
   "display_name": "Python 3 (ipykernel)",
   "language": "python",
   "name": "python3"
  },
  "language_info": {
   "codemirror_mode": {
    "name": "ipython",
    "version": 3
   },
   "file_extension": ".py",
   "mimetype": "text/x-python",
   "name": "python",
   "nbconvert_exporter": "python",
   "pygments_lexer": "ipython3",
   "version": "3.8.13"
  }
 },
 "nbformat": 4,
 "nbformat_minor": 5
}
